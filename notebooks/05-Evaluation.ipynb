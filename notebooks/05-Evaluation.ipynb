{
 "cells": [
  {
   "cell_type": "code",
   "execution_count": 1,
   "id": "entire-latvia",
   "metadata": {
    "code_folding": [
     0
    ]
   },
   "outputs": [],
   "source": [
    "# imports\n",
    "%reload_ext autoreload\n",
    "%autoreload 2\n",
    "%matplotlib inline\n",
    "from fastai.vision import *\n",
    "from fastai.callbacks import *\n",
    "import rpsalweaklydet as rps"
   ]
  },
  {
   "cell_type": "code",
   "execution_count": 2,
   "id": "requested-range",
   "metadata": {},
   "outputs": [],
   "source": [
    "bs = 4\n",
    "img_sz  = 512\n",
    "crop_sz = 64\n",
    "path = Path('example')\n",
    "data_path = '/home/renato/data/chestxray8/'"
   ]
  },
  {
   "cell_type": "code",
   "execution_count": 3,
   "id": "qualified-simple",
   "metadata": {},
   "outputs": [
    {
     "name": "stderr",
     "output_type": "stream",
     "text": [
      "/home/renato/anaconda3/envs/ml/lib/python3.7/site-packages/fastai/core.py:302: VisibleDeprecationWarning: Creating an ndarray from ragged nested sequences (which is a list-or-tuple of lists-or-tuples-or ndarrays with different lengths or shapes) is deprecated. If you meant to do this, you must specify 'dtype=object' when creating the ndarray\n",
      "  return np.array(a, dtype=dtype, **kwargs)\n"
     ]
    }
   ],
   "source": [
    "data = rps.data.get_chestxray8(data_path, bs, img_sz, valid_only_bbx=True)"
   ]
  },
  {
   "cell_type": "code",
   "execution_count": 4,
   "id": "elementary-manner",
   "metadata": {},
   "outputs": [],
   "source": [
    "learn = rps.models.get_detection_learner(data, models.densenet121, crop_arch=models.resnet34, path=path)"
   ]
  },
  {
   "cell_type": "code",
   "execution_count": 11,
   "id": "irish-lithuania",
   "metadata": {},
   "outputs": [],
   "source": [
    "learn.load('fullmodel_densenet121');"
   ]
  },
  {
   "cell_type": "code",
   "execution_count": 8,
   "id": "greek-stanford",
   "metadata": {},
   "outputs": [],
   "source": [
    "exp = rps.explorer.SaliencyExplorer(learn, data, filename='detection_results', overwrite=False)"
   ]
  },
  {
   "cell_type": "code",
   "execution_count": 9,
   "id": "stone-ghost",
   "metadata": {},
   "outputs": [
    {
     "name": "stdout",
     "output_type": "stream",
     "text": [
      "Updating data using {'input_type': 'mix', 'method': 'union'}...\n"
     ]
    }
   ],
   "source": [
    "ious = exp.process_iou(filename='iou_best', overwrite=False)"
   ]
  },
  {
   "cell_type": "code",
   "execution_count": 10,
   "id": "straight-power",
   "metadata": {},
   "outputs": [
    {
     "data": {
      "text/html": [
       "<div>\n",
       "<style scoped>\n",
       "    .dataframe tbody tr th:only-of-type {\n",
       "        vertical-align: middle;\n",
       "    }\n",
       "\n",
       "    .dataframe tbody tr th {\n",
       "        vertical-align: top;\n",
       "    }\n",
       "\n",
       "    .dataframe thead th {\n",
       "        text-align: right;\n",
       "    }\n",
       "</style>\n",
       "<table border=\"1\" class=\"dataframe\">\n",
       "  <thead>\n",
       "    <tr style=\"text-align: right;\">\n",
       "      <th></th>\n",
       "      <th>m</th>\n",
       "      <th>Atelectasis</th>\n",
       "      <th>Cardiomegaly</th>\n",
       "      <th>Effusion</th>\n",
       "      <th>Infiltration</th>\n",
       "      <th>Mass</th>\n",
       "      <th>Nodule</th>\n",
       "      <th>Pneumonia</th>\n",
       "      <th>Pneumothorax</th>\n",
       "      <th>avg</th>\n",
       "    </tr>\n",
       "  </thead>\n",
       "  <tbody>\n",
       "    <tr>\n",
       "      <th>0</th>\n",
       "      <td>0.1</td>\n",
       "      <td>0.7333</td>\n",
       "      <td>1.0000</td>\n",
       "      <td>0.7386</td>\n",
       "      <td>0.9106</td>\n",
       "      <td>0.8000</td>\n",
       "      <td>0.3544</td>\n",
       "      <td>0.9417</td>\n",
       "      <td>0.4490</td>\n",
       "      <td>0.7409</td>\n",
       "    </tr>\n",
       "    <tr>\n",
       "      <th>1</th>\n",
       "      <td>0.2</td>\n",
       "      <td>0.5000</td>\n",
       "      <td>1.0000</td>\n",
       "      <td>0.4902</td>\n",
       "      <td>0.7480</td>\n",
       "      <td>0.5176</td>\n",
       "      <td>0.1899</td>\n",
       "      <td>0.7833</td>\n",
       "      <td>0.2245</td>\n",
       "      <td>0.5567</td>\n",
       "    </tr>\n",
       "    <tr>\n",
       "      <th>2</th>\n",
       "      <td>0.3</td>\n",
       "      <td>0.2778</td>\n",
       "      <td>0.9932</td>\n",
       "      <td>0.2222</td>\n",
       "      <td>0.5203</td>\n",
       "      <td>0.2588</td>\n",
       "      <td>0.1013</td>\n",
       "      <td>0.5750</td>\n",
       "      <td>0.1224</td>\n",
       "      <td>0.3839</td>\n",
       "    </tr>\n",
       "    <tr>\n",
       "      <th>3</th>\n",
       "      <td>0.4</td>\n",
       "      <td>0.1611</td>\n",
       "      <td>0.9658</td>\n",
       "      <td>0.1307</td>\n",
       "      <td>0.2683</td>\n",
       "      <td>0.2000</td>\n",
       "      <td>0.0127</td>\n",
       "      <td>0.4000</td>\n",
       "      <td>0.0714</td>\n",
       "      <td>0.2762</td>\n",
       "    </tr>\n",
       "    <tr>\n",
       "      <th>4</th>\n",
       "      <td>0.5</td>\n",
       "      <td>0.0667</td>\n",
       "      <td>0.8973</td>\n",
       "      <td>0.0523</td>\n",
       "      <td>0.1301</td>\n",
       "      <td>0.0941</td>\n",
       "      <td>0.0000</td>\n",
       "      <td>0.1833</td>\n",
       "      <td>0.0306</td>\n",
       "      <td>0.1818</td>\n",
       "    </tr>\n",
       "    <tr>\n",
       "      <th>5</th>\n",
       "      <td>0.6</td>\n",
       "      <td>0.0167</td>\n",
       "      <td>0.6712</td>\n",
       "      <td>0.0065</td>\n",
       "      <td>0.0813</td>\n",
       "      <td>0.0471</td>\n",
       "      <td>0.0000</td>\n",
       "      <td>0.0750</td>\n",
       "      <td>0.0204</td>\n",
       "      <td>0.1148</td>\n",
       "    </tr>\n",
       "    <tr>\n",
       "      <th>6</th>\n",
       "      <td>0.7</td>\n",
       "      <td>0.0056</td>\n",
       "      <td>0.2808</td>\n",
       "      <td>0.0000</td>\n",
       "      <td>0.0325</td>\n",
       "      <td>0.0235</td>\n",
       "      <td>0.0000</td>\n",
       "      <td>0.0417</td>\n",
       "      <td>0.0000</td>\n",
       "      <td>0.0480</td>\n",
       "    </tr>\n",
       "    <tr>\n",
       "      <th>7</th>\n",
       "      <td>IoU</td>\n",
       "      <td>0.2193</td>\n",
       "      <td>0.6374</td>\n",
       "      <td>0.2082</td>\n",
       "      <td>0.3177</td>\n",
       "      <td>0.2360</td>\n",
       "      <td>0.0945</td>\n",
       "      <td>0.3461</td>\n",
       "      <td>0.1249</td>\n",
       "      <td>0.2730</td>\n",
       "    </tr>\n",
       "  </tbody>\n",
       "</table>\n",
       "</div>"
      ],
      "text/plain": [
       "     m  Atelectasis  Cardiomegaly  Effusion  Infiltration    Mass  Nodule  \\\n",
       "0  0.1       0.7333        1.0000    0.7386        0.9106  0.8000  0.3544   \n",
       "1  0.2       0.5000        1.0000    0.4902        0.7480  0.5176  0.1899   \n",
       "2  0.3       0.2778        0.9932    0.2222        0.5203  0.2588  0.1013   \n",
       "3  0.4       0.1611        0.9658    0.1307        0.2683  0.2000  0.0127   \n",
       "4  0.5       0.0667        0.8973    0.0523        0.1301  0.0941  0.0000   \n",
       "5  0.6       0.0167        0.6712    0.0065        0.0813  0.0471  0.0000   \n",
       "6  0.7       0.0056        0.2808    0.0000        0.0325  0.0235  0.0000   \n",
       "7  IoU       0.2193        0.6374    0.2082        0.3177  0.2360  0.0945   \n",
       "\n",
       "   Pneumonia  Pneumothorax     avg  \n",
       "0     0.9417        0.4490  0.7409  \n",
       "1     0.7833        0.2245  0.5567  \n",
       "2     0.5750        0.1224  0.3839  \n",
       "3     0.4000        0.0714  0.2762  \n",
       "4     0.1833        0.0306  0.1818  \n",
       "5     0.0750        0.0204  0.1148  \n",
       "6     0.0417        0.0000  0.0480  \n",
       "7     0.3461        0.1249  0.2730  "
      ]
     },
     "execution_count": 10,
     "metadata": {},
     "output_type": "execute_result"
    }
   ],
   "source": [
    "exp.get_report()"
   ]
  },
  {
   "source": [
    "> Atm this result is different than the one reported on the paper as a different version of Pytorch is being used. I will update this later with the specification of the correct library version."
   ],
   "cell_type": "markdown",
   "metadata": {}
  },
  {
   "cell_type": "code",
   "execution_count": null,
   "id": "respected-brake",
   "metadata": {},
   "outputs": [],
   "source": []
  }
 ],
 "metadata": {
  "kernelspec": {
   "display_name": "Python [conda env:ml]",
   "language": "python",
   "name": "conda-env-ml-py"
  },
  "language_info": {
   "codemirror_mode": {
    "name": "ipython",
    "version": 3
   },
   "file_extension": ".py",
   "mimetype": "text/x-python",
   "name": "python",
   "nbconvert_exporter": "python",
   "pygments_lexer": "ipython3",
   "version": "3.7.7"
  },
  "toc": {
   "base_numbering": 1,
   "nav_menu": {},
   "number_sections": true,
   "sideBar": true,
   "skip_h1_title": false,
   "title_cell": "Table of Contents",
   "title_sidebar": "Contents",
   "toc_cell": false,
   "toc_position": {},
   "toc_section_display": true,
   "toc_window_display": false
  }
 },
 "nbformat": 4,
 "nbformat_minor": 5
}